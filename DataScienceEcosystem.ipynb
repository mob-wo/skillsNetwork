{
 "cells": [
  {
   "cell_type": "code",
   "execution_count": 8,
   "id": "807e07da-7f4d-4fd3-a15d-530c9dee6d92",
   "metadata": {},
   "outputs": [
    {
     "data": {
      "text/html": [
       "<style>\n",
       "table {float:left}\n",
       "</style>\n"
      ],
      "text/plain": [
       "<IPython.core.display.HTML object>"
      ]
     },
     "metadata": {},
     "output_type": "display_data"
    }
   ],
   "source": [
    "%%html\n",
    "<style>\n",
    "table {float:left}\n",
    "</style>"
   ]
  },
  {
   "cell_type": "markdown",
   "id": "0402836b-b59d-4b9b-a972-00c538f08f22",
   "metadata": {},
   "source": [
    "# Data Science Tools and Ecosystem"
   ]
  },
  {
   "cell_type": "markdown",
   "id": "3e551b11-ceb8-45ca-a684-b64bdf7564a6",
   "metadata": {},
   "source": [
    "## In this notebook, Data Science Tools and Ecosystem are summarized."
   ]
  },
  {
   "cell_type": "markdown",
   "id": "d32cda22-eade-4de1-8e89-096d3052d0e5",
   "metadata": {},
   "source": [
    "### **some of the key takeaways from the course**\n",
    "* Some of the popular languages\n",
    "* Some of the commonly used libraries\n",
    "* expressions in Python"
   ]
  },
  {
   "cell_type": "markdown",
   "id": "a626d46a-d469-4a13-a958-c0525b58a2e6",
   "metadata": {
    "jp-MarkdownHeadingCollapsed": true
   },
   "source": [
    "#### Some of the popular languages that Data Scientists use are:\n",
    "1. Python\n",
    "2. R\n",
    "3. SQL "
   ]
  },
  {
   "cell_type": "markdown",
   "id": "8e20ea15-e041-4747-a099-764f2a0df8f1",
   "metadata": {},
   "source": [
    "#### Some of the commonly used libraries used by Data Scientists include:\n",
    "* NumPy\n",
    "* Pandas\n",
    "* Matplotlib"
   ]
  },
  {
   "cell_type": "markdown",
   "id": "f1418db4-7c46-4ded-bb20-11d61fa8ac81",
   "metadata": {
    "editable": true,
    "slideshow": {
     "slide_type": ""
    },
    "tags": []
   },
   "source": [
    "|Data Science Tools|\n",
    "|:---|\n",
    "|Jupyter|\n",
    "|Anaconda|\n",
    "|Visual Studio Code|"
   ]
  },
  {
   "cell_type": "markdown",
   "id": "f1fa5317-fcd8-4335-8ab5-9c33c32e04d6",
   "metadata": {},
   "source": [
    "### Below are a few examples of evaluating arithmetic expressions in Python"
   ]
  },
  {
   "cell_type": "code",
   "execution_count": 9,
   "id": "b89d712a-3f06-45e1-a635-edfedc305f12",
   "metadata": {},
   "outputs": [
    {
     "data": {
      "text/plain": [
       "17"
      ]
     },
     "execution_count": 9,
     "metadata": {},
     "output_type": "execute_result"
    }
   ],
   "source": [
    "# This a simple arithmetic expression to multiply then add integers\n",
    "(3*4)+5"
   ]
  },
  {
   "cell_type": "code",
   "execution_count": 19,
   "id": "d70bc2eb-6142-48f9-a645-5dbbf702ccb6",
   "metadata": {},
   "outputs": [
    {
     "name": "stdout",
     "output_type": "stream",
     "text": [
      "3:20\n"
     ]
    }
   ],
   "source": [
    "# This will convert 200 minutes to hours by diving by 60\n",
    "import datetime\n",
    "td = datetime.timedelta(minutes=200)\n",
    "m, s = divmod(td.seconds, 60)\n",
    "h, m = divmod(m, 60)\n",
    "print(\"{}:{}\".format(h,m))"
   ]
  },
  {
   "cell_type": "markdown",
   "id": "a51f8f76-6632-43c2-8b4f-11475ae88ef2",
   "metadata": {},
   "source": [
    "## Author\n",
    "name : Reiji Oikawa"
   ]
  }
 ],
 "metadata": {
  "kernelspec": {
   "display_name": "Python 3 (ipykernel)",
   "language": "python",
   "name": "python3"
  },
  "language_info": {
   "codemirror_mode": {
    "name": "ipython",
    "version": 3
   },
   "file_extension": ".py",
   "mimetype": "text/x-python",
   "name": "python",
   "nbconvert_exporter": "python",
   "pygments_lexer": "ipython3",
   "version": "3.12.8"
  }
 },
 "nbformat": 4,
 "nbformat_minor": 5
}
