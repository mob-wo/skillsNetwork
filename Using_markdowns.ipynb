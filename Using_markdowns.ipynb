{
  "metadata": {
    "kernelspec": {
      "name": "python",
      "display_name": "Python (Pyodide)",
      "language": "python"
    },
    "language_info": {
      "codemirror_mode": {
        "name": "python",
        "version": 3
      },
      "file_extension": ".py",
      "mimetype": "text/x-python",
      "name": "python",
      "nbconvert_exporter": "python",
      "pygments_lexer": "ipython3",
      "version": "3.8"
    },
    "prev_pub_hash": "1aa16fbca7724b9bc3c0b1b52dd2ecd7aa4dd58060c4c5caf442ec6b1fafe236",
    "colab": {
      "provenance": [],
      "include_colab_link": true
    }
  },
  "nbformat_minor": 0,
  "nbformat": 4,
  "cells": [
    {
      "cell_type": "markdown",
      "metadata": {
        "id": "view-in-github",
        "colab_type": "text"
      },
      "source": [
        "<a href=\"https://colab.research.google.com/github/mob-wo/skillsNetwork/blob/main/Using_markdowns.ipynb\" target=\"_parent\"><img src=\"https://colab.research.google.com/assets/colab-badge.svg\" alt=\"Open In Colab\"/></a>"
      ]
    },
    {
      "cell_type": "markdown",
      "source": [
        "<p style=\"text-align:center\">\n",
        "    <a href=\"https://skills.network/?utm_medium=Exinfluencer&utm_source=Exinfluencer&utm_content=000026UJ&utm_term=10006555&utm_id=NA-SkillsNetwork-Channel-SkillsNetworkCoursesIBMDeveloperSkillsNetworkPY0101ENSkillsNetwork19487395-2022-01-01\" target=\"_blank\">\n",
        "    <img src=\"https://cf-courses-data.s3.us.cloud-object-storage.appdomain.cloud/assets/logos/SN_web_lightmode.png\" width=\"200\" alt=\"Skills Network Logo\">\n",
        "    </a>\n",
        "</p>\n",
        "\n",
        "# Lab: Using Markdowns in Jupyter Notebooks\n",
        "\n",
        "Estimated time needed: **15** minutes\n",
        "\n",
        "Jupyter Notebooks are composed of code and markdown cells. Markdown cells are used to present text, images, etc. and are useful to document and explain the contents of your notebook. In this lab, you will become familiar with writing markdown.\n",
        "\n",
        "## Objectives\n",
        "\n",
        "After completing this lab, you will be able to:\n",
        "* Identify in which Kernel your Jupyter notebook is running\n",
        "* Create headings, and add text in bold and italics in Markdown\n",
        "* Insert links and images using Markdown\n",
        "* Create Tables in Markdown\n",
        "* Create ordered and unordered lists in Markdown\n",
        "* Demonstrate your proficiency in using Markdown in Jupyter Notebooks\n"
      ],
      "metadata": {
        "id": "p-hQV1inJWI_"
      }
    },
    {
      "cell_type": "markdown",
      "source": [
        "# Exercise 1\n",
        "\n",
        "### Kernels in Jupyter notebook\n",
        "\n",
        "* A notebook kernel is a computational engine that executes the code in a Notebook file.\n",
        "  \n",
        "* When the Notebook is executed, the kernel performs the computation and produces the results.\n",
        "\n",
        "* On the top right corner you can see the kernel's name. For instance, in JupyterLite, the default kernel is **Pyolite**. Similarly, if you are working on JupyterLab, the kernel will be **Python 3** or **Python 2**, depending on the version.\n",
        "\n",
        "<img src=\"https://cf-courses-data.s3.us.cloud-object-storage.appdomain.cloud/IBMDeveloperSkillsNetwork-DS0105EN-SkillsNetwork/labs/Labs_V4/images/kernelforjupyterlite.jpg\">\n",
        "\n",
        "\n",
        "* You can also run other kernels by choosing the preferred kernel on the **launch page** or by clicking the top right drop-down menu to switch the kernel to the preferred kernel from the menu.\n",
        "\n",
        "* When the kernel is in execution, the state of the kernel is changed from **Idle** to the **Running** state.\n",
        "\n",
        "#### Try yourself:\n"
      ],
      "metadata": {
        "id": "S76v98frJWJA"
      }
    },
    {
      "cell_type": "markdown",
      "source": [
        "* Click the running Kernel, For Example, **Pyolite**, to see which other kernels are available.<br/>\n",
        "\n",
        "  > _Please don't switch the existing kernel._\n"
      ],
      "metadata": {
        "id": "8LdV1QU8JWJA"
      }
    },
    {
      "cell_type": "markdown",
      "source": [
        "<details><summary>Click here for the solution</summary>\n",
        "\n",
        "The output looks as:\n",
        "\n",
        "<img src=\"https://cf-courses-data.s3.us.cloud-object-storage.appdomain.cloud/IBMDeveloperSkillsNetwork-DS0105EN-SkillsNetwork/labs/Labs_V4/images/kernel2.png\">\n",
        "\n",
        "</details>\n"
      ],
      "metadata": {
        "id": "ggFP3o6TJWJA"
      }
    },
    {
      "cell_type": "markdown",
      "source": [
        "* Check the state of the kernel by clicking on the circle next to it.\n"
      ],
      "metadata": {
        "id": "oHvLtEcVJWJB"
      }
    },
    {
      "cell_type": "markdown",
      "source": [
        "<details><summary>Click here for the solution</summary>\n",
        "\n",
        "The output looks as:\n",
        "\n",
        "<img src=\"https://cf-courses-data.s3.us.cloud-object-storage.appdomain.cloud/IBMDeveloperSkillsNetwork-DS0105EN-SkillsNetwork/labs/Labs_V4/images/kernel3.png\">\n",
        "\n",
        "</details>\n"
      ],
      "metadata": {
        "id": "33e6GBlkJWJB"
      }
    },
    {
      "cell_type": "markdown",
      "source": [
        "# Exercise 2\n",
        "### Create headings, and add text in bold and italics in Markdown\n",
        "\n",
        "Let us explore basic markdown elements such as:\n",
        "* Headings\n",
        "* Bold Text\n",
        "* ItalicText\n",
        "\n",
        "\n"
      ],
      "metadata": {
        "id": "OG9sQlEPJWJB"
      }
    },
    {
      "cell_type": "markdown",
      "source": [
        "### Headings:\n",
        "\n",
        "* You can create headings by adding a <code>#</code> sign before a **word** or a **phrase**.\n",
        "\n",
        "   * There are six levels of headings.\n",
        "   * The number sign <code>#</code> indicate the level of heading for example **# Hello** corresponds to **level 1**,the highest level heading.\n",
        "   * Display the following text using six different heading levels.\n",
        "      * H1: This is a level 1 Heading\n",
        "      * H2: This is a level 2 Heading\n",
        "      * H3: This is a level 3 Heading\n",
        "      * H4: This is a level 4 Heading\n",
        "      * H5: This is a level 5 Heading\n",
        "      * H6: This is a level 6 Heading\n",
        " > Recall: To convert a code cell to markdown, first click inside the cell, then on the dropdown labeled **\"Code\"** in the toolbar and select **\"Markdown\"**. To run a cell, click inside the cell, then press <kbd>Shift+Enter keys</kbd> together.    \n",
        "   <img src=\"https://cf-courses-data.s3.us.cloud-object-storage.appdomain.cloud/IBMDeveloperSkillsNetwork-DS0105EN-SkillsNetwork/labs/Labs_V4/images/markdown1.png\">\n",
        "   \n",
        "   * Convert the cell below to a markdown cell and execute it.\n",
        "   * To see or edit the contents of a rendered Markdown cell after running it, double-click on the cell.\n"
      ],
      "metadata": {
        "id": "MHhFxTf-JWJB"
      }
    },
    {
      "cell_type": "code",
      "source": [
        "# Execute it as a markdown cell\n",
        "# H1: This is a level 1 Heading\n",
        "## H2: This is a level 2 Heading\n",
        "### H3: This is a level 3 Heading\n",
        "#### H4: This is a level 4 Heading\n",
        "##### H5: This is a level 5 Heading\n",
        "###### H6: This is a level 6 Heading"
      ],
      "metadata": {
        "id": "nMve7fkXJWJB"
      },
      "outputs": [],
      "execution_count": null
    },
    {
      "cell_type": "markdown",
      "source": [
        "<details><summary>Click here for the solution</summary>\n",
        "\n",
        "The output looks as:\n",
        "\n",
        "<img src=\"https://cf-courses-data.s3.us.cloud-object-storage.appdomain.cloud/IBMDeveloperSkillsNetwork-DS0105EN-SkillsNetwork/labs/Labs_V4/images/markdown3.png\">\n",
        "\n",
        "<img src=\"https://cf-courses-data.s3.us.cloud-object-storage.appdomain.cloud/IBMDeveloperSkillsNetwork-DS0105EN-SkillsNetwork/labs/Labs_V4/images/markdown2.png\">\n",
        "\n",
        "</details>\n"
      ],
      "metadata": {
        "id": "I16ewespJWJB"
      }
    },
    {
      "cell_type": "markdown",
      "source": [
        "### Bold Text\n",
        "\n",
        "* You can create bold text by adding two asterisks or underscores before and after a word, phrase, or a sentence.\n",
        "\n",
        "* Convert the cell below to markdown cell and execute it.\n"
      ],
      "metadata": {
        "id": "QM9eOKyOJWJB"
      }
    },
    {
      "cell_type": "code",
      "source": [
        "# Execute it as a markdown cell\n",
        "**Bold Text using asterisks.**\n",
        "__Bold Text using underscores.__"
      ],
      "metadata": {
        "id": "dRi6KhqVJWJB"
      },
      "outputs": [],
      "execution_count": null
    },
    {
      "cell_type": "markdown",
      "source": [
        "### Italic Text\n",
        "\n",
        "* You can display text in italics by adding a single asterisk or underscore before and after a word, phrase, or a sentence.\n",
        "\n",
        "* Convert the cell below to markdown cell and execute it.\n"
      ],
      "metadata": {
        "id": "tML1RsTpJWJB"
      }
    },
    {
      "cell_type": "markdown",
      "source": [
        "# Execute it as a markdown cell\n",
        "*Text in italics using asterisk.*  \n",
        "_Text in italics using underscore._\n"
      ],
      "metadata": {
        "id": "7c3F_kE6JWJB"
      }
    },
    {
      "cell_type": "markdown",
      "source": [
        "### Bold and Italic text\n",
        "* You can display text in both bold and italic style at the same time by adding a three asterisks or underscores before and after a word,phrase or a sentence.\n",
        "\n",
        "* Convert the cell below to markdown cell and execute it.\n"
      ],
      "metadata": {
        "id": "CzbWtrH0JWJB"
      }
    },
    {
      "cell_type": "code",
      "source": [
        "# Execute it as a markdown cell\n",
        "***Bold and Italic text using asterisks.***\n",
        "___Bold and Italic text using underscores.___"
      ],
      "metadata": {
        "id": "JNxPEAV0JWJB"
      },
      "outputs": [],
      "execution_count": null
    },
    {
      "cell_type": "markdown",
      "source": [
        "# Exercise 3\n",
        "### Insert links and images using Markdown\n",
        "\n",
        "* Hyperlinks\n",
        "* Images\n"
      ],
      "metadata": {
        "id": "CpyAWCIxJWJC"
      }
    },
    {
      "cell_type": "markdown",
      "source": [
        "### Hyperlinks\n",
        "You can create a **hyperlink** in the following format.\n",
        "\n",
        "<img src=\"https://raw.githubusercontent.com/Lakshmiholla-2808/first/main/hyper1.png\">\n",
        "\n",
        "* **Name of the link** is the clickable link text\n",
        "* **Link url** is the web address of the url which will be directed on clicking the link.\n",
        "* To display a clickable link without a name, enclose the link in angle brackets.\n",
        "&lt;https://skills.network/ &gt;\n",
        "\n",
        "_Convert the code cell below to a markdown cell. Then create a hyperlink to the webpage **https://skills.network** with the **Name of the Link** as \"Skills Network\". Then execute the code._\n"
      ],
      "metadata": {
        "id": "TLpRqaLkJWJC"
      }
    },
    {
      "cell_type": "code",
      "source": [
        "# Execute it as a markdown cell\n",
        "[Skills Network](https://skills.network/)"
      ],
      "metadata": {
        "id": "tCN92LzVJWJC"
      },
      "outputs": [],
      "execution_count": null
    },
    {
      "cell_type": "markdown",
      "source": [
        "### Images\n",
        "\n",
        "Images can be rendered in the following format.\n",
        "     \n",
        "<img src=\"https://cf-courses-data.s3.us.cloud-object-storage.appdomain.cloud/IBMDeveloperSkillsNetwork-DS0105EN-SkillsNetwork/labs/Labs_V4/images/image.png\">\n",
        "\n",
        "Convert the cell below to markdown cell and execute it.\n"
      ],
      "metadata": {
        "id": "TnQAAXNqJWJC"
      }
    },
    {
      "cell_type": "code",
      "source": [
        "# Execute it as a markdown cell\n",
        "LOGO: ![This is the skills network logo](https://cf-courses-data.s3.us.cloud-object-storage.appdomain.cloud/assets/logos/SN_web_lightmode.png)"
      ],
      "metadata": {
        "id": "WtjAvAH2JWJC"
      },
      "outputs": [],
      "execution_count": null
    },
    {
      "cell_type": "markdown",
      "source": [
        "# Exercise 4\n",
        "\n",
        "### Create Tables in Markdown\n",
        "\n",
        "To create tables, use:\n",
        "* **hyphens** <code>(----)</code> for column headers\n",
        "* **pipes** <code>|</code> to separate each column\n",
        "* **Text on a new line** to separate each row\n",
        "\n",
        "<img src=\"https://cf-courses-data.s3.us.cloud-object-storage.appdomain.cloud/IBMDeveloperSkillsNetwork-DS0105EN-SkillsNetwork/labs/Labs_V4/images/tabledisp.png\">\n",
        "\n",
        "_Convert the code cell below to a markdown cell. Then recreate the example table above and execute the code._\n"
      ],
      "metadata": {
        "id": "oOSGoXLiJWJC"
      }
    },
    {
      "cell_type": "code",
      "source": [
        "## Execute as a markdown cell\n",
        "\n",
        "| Country Name | Capital |\n",
        "| -------------| ------ |\n",
        "| United States | Washington DC |\n",
        "| Australia | Canberra |\n",
        "| India | New Delhi |"
      ],
      "metadata": {
        "id": "689kMOwpJWJC"
      },
      "outputs": [],
      "execution_count": null
    },
    {
      "cell_type": "markdown",
      "source": [
        "A table is created with <code>1</code> heading row, <code>3</code> body rows, and <code>2</code> columns.\n"
      ],
      "metadata": {
        "id": "RXy6i7lUJWJC"
      }
    },
    {
      "cell_type": "markdown",
      "source": [
        "# Exercise 4\n",
        "\n",
        "### Create ordered and unordered lists in Markdown\n",
        "\n",
        "#### Unordered List\n",
        "\n",
        "An unordered list is also referred to as a **bulleted list**.\n",
        "\n",
        "You can create an unordered list by adding **dashes (-), asterisks (*), or plus signs (+)** in front of line items.\n",
        "\n",
        "<img src=\"https://cf-courses-data.s3.us.cloud-object-storage.appdomain.cloud/IBMDeveloperSkillsNetwork-DS0105EN-SkillsNetwork/labs/Labs_V4/images/unordered.png\">\n",
        "\n",
        "_Convert the code cell below to a markdown cell. Then recreate the unordered list displayed above using **dashes (-), asterisks (*),** and **plus signs (+).** Then execute the code._\n"
      ],
      "metadata": {
        "id": "Kx5xBffPJWJC"
      }
    },
    {
      "cell_type": "code",
      "source": [
        "# Execute as a markdown cell\n",
        "- First item using dashes\n",
        "- Second item using dashes\n",
        "- Third item using dashes\n",
        "- Fourth item using dashes\n",
        "\n",
        "* First item using asterisks\n",
        "* Second item using asterisks\n",
        "* Third item using asterisks\n",
        "* Fourth item using asterisks\n",
        "\n",
        "+ First item using plus\n",
        "+ Second item using plus\n",
        "+ Third item using plus\n",
        "+ Fourth item using plus"
      ],
      "metadata": {
        "id": "Aj6AZ7mhJWJC"
      },
      "outputs": [],
      "execution_count": null
    },
    {
      "cell_type": "markdown",
      "source": [
        "\n",
        "#### Ordered List\n",
        "\n",
        "Create an ordered list by adding line items with **numbers** followed by **periods**.\n",
        "\n",
        " <img src=\"https://cf-courses-data.s3.us.cloud-object-storage.appdomain.cloud/IBMDeveloperSkillsNetwork-DS0105EN-SkillsNetwork/labs/Labs_V4/images/list.png\">\n",
        "\n",
        "_Convert the code cell below to a markdown cell. Then recreate the ordered list displayed above and execute the code._\n"
      ],
      "metadata": {
        "id": "e1i0SDU6JWJC"
      }
    },
    {
      "cell_type": "code",
      "source": [
        "# Execute as a markdown cell\n",
        "1. First item\n",
        "2. Second item\n",
        "3. Third item\n",
        "4. Fourth item\n"
      ],
      "metadata": {
        "id": "WjWL2wP9JWJC"
      },
      "outputs": [],
      "execution_count": null
    },
    {
      "cell_type": "markdown",
      "source": [
        "# Practice Exercises\n",
        "\n",
        "### Demonstrate your proficiency in using Markdown in Jupyter notebooks\n"
      ],
      "metadata": {
        "id": "yNxI8WpcJWJC"
      }
    },
    {
      "cell_type": "markdown",
      "source": [
        "#### Task 1: Create **H2 level heading** as **Welcome to Python programming** and add the image from the following **url** with alt text as **This is SN labs New Launcher**\n",
        "\n",
        "_https://cf-courses-data.s3.us.cloud-object-storage.appdomain.cloud/IBMDeveloperSkillsNetwork-DS0105EN-SkillsNetwork/labs/Labs_V4/images/Launcher.png_\n"
      ],
      "metadata": {
        "id": "KAdPX5KpJWJC"
      }
    },
    {
      "cell_type": "code",
      "source": [
        "## Write your markdown here"
      ],
      "metadata": {
        "id": "SH3OSrttJWJC"
      },
      "outputs": [],
      "execution_count": null
    },
    {
      "cell_type": "markdown",
      "source": [
        "<details><summary>Click here for the solution</summary>\n",
        "\n",
        "```python\n",
        "## Welcome to Python programming\n",
        "Launcher:![This is SN labs New Launcher](https://cf-courses-data.s3.us.cloud-object-storage.appdomain.cloud/IBMDeveloperSkillsNetwork-DS0105EN-SkillsNetwork/labs/Labs_V4/images/Launcher.png)\n",
        "\n",
        "```\n",
        "Output look as:\n",
        "\n",
        "<img src=\"https://cf-courses-data.s3.us.cloud-object-storage.appdomain.cloud/IBMDeveloperSkillsNetwork-DS0105EN-SkillsNetwork/labs/Labs_V4/images/Launcheroutput.png\">\n",
        "\n",
        "</details>\n",
        "\n"
      ],
      "metadata": {
        "id": "qUyJKweuJWJC"
      }
    },
    {
      "cell_type": "markdown",
      "source": [
        "#### Task 2: Create a hyperlink to <code>https://www.coursera.org/learn/open-source-tools-for-data-science/home</code> with the **Name of the link** as \"Tools For Data Science\".\n"
      ],
      "metadata": {
        "id": "_Q3-BwXLJWJC"
      }
    },
    {
      "cell_type": "code",
      "source": [
        "# Write your markdown here"
      ],
      "metadata": {
        "id": "K8czY05-JWJD"
      },
      "outputs": [],
      "execution_count": null
    },
    {
      "cell_type": "markdown",
      "source": [
        "<details><summary>Click here for the solution</summary>\n",
        "\n",
        "```\n",
        "<a href =\"https://www.coursera.org/learn/open-source-tools-for-data-science/home/\">Tools For Data Science</a>\n",
        "    \n",
        "```\n",
        "\n",
        "</details>\n"
      ],
      "metadata": {
        "id": "s-ZlVDvRJWJD"
      }
    },
    {
      "cell_type": "markdown",
      "source": [
        "#### Task 3: Create the following table:\n",
        "\n",
        " <img src=\"https://cf-courses-data.s3.us.cloud-object-storage.appdomain.cloud/IBMDeveloperSkillsNetwork-DS0105EN-SkillsNetwork/labs/Labs_V4/images/table.png\">\n"
      ],
      "metadata": {
        "id": "rAm4d_7rJWJD"
      }
    },
    {
      "cell_type": "code",
      "source": [
        "# Write your markdown here"
      ],
      "metadata": {
        "id": "Ubsl2h2EJWJD"
      },
      "outputs": [],
      "execution_count": null
    },
    {
      "cell_type": "markdown",
      "source": [
        "<details><summary>Click here for the solution</summary>\n",
        "\n",
        "```\n",
        "|Fruits | Quantity(Kg) | Price(In Rupee) |\n",
        "| ------ | ------ | ------ |\n",
        "| Apple | 2 |500|\n",
        "|Orange | 1 |200|\n",
        "| Mango | 3 |1000|\n",
        "| Grapes | 2 |400|\n",
        "\n",
        "    \n",
        "```\n",
        "\n",
        "</details>\n"
      ],
      "metadata": {
        "id": "Tuimte9BJWJD"
      }
    },
    {
      "cell_type": "markdown",
      "source": [
        "#### Task 4: Create the following ordered list:\n",
        "\n",
        "<img src=\"https://cf-courses-data.s3.us.cloud-object-storage.appdomain.cloud/IBMDeveloperSkillsNetwork-DS0105EN-SkillsNetwork/labs/Labs_V4/images/order1.png\">\n"
      ],
      "metadata": {
        "id": "daaV2QwjJWJD"
      }
    },
    {
      "cell_type": "code",
      "source": [
        "# Write your markdown here"
      ],
      "metadata": {
        "id": "uEArtb6cJWJD"
      },
      "outputs": [],
      "execution_count": null
    },
    {
      "cell_type": "markdown",
      "source": [
        "<details><summary>Click here for the solution</summary>\n",
        "\n",
        "```\n",
        "1. Python\n",
        "2. Java\n",
        "3. C++\n",
        "4. C   \n",
        "```\n",
        "\n",
        "</details>\n"
      ],
      "metadata": {
        "id": "EcN3-iezJWJD"
      }
    },
    {
      "cell_type": "markdown",
      "source": [
        "_You can find more rules for Markdown formatting in this Markdown Cheatsheet: https://github.com/adam-p/markdown-here/wiki/Markdown-Cheatsheet_\n"
      ],
      "metadata": {
        "id": "bPtO-Ze6JWJD"
      }
    },
    {
      "cell_type": "markdown",
      "source": [
        "###  Thank you for completing this lab!\n",
        "\n"
      ],
      "metadata": {
        "id": "x6naP5OzJWJD"
      }
    },
    {
      "cell_type": "markdown",
      "source": [
        "## Author\n",
        "\n",
        "[Lakshmi Holla](https://www.linkedin.com/in/lakshmi-holla-b39062149/)\n",
        "\n",
        "[Malika Singla](https://www.linkedin.com/in/malika-goyal-04798622/)\n",
        "\n",
        "\n",
        "<!-- ## Change Log\n",
        "\n",
        "| Date (YYYY-MM-DD) | Version | Changed By | Change Description                 |\n",
        "| ----------------- | ------- | ---------- | ---------------------------------- |\n",
        "| 2022-09-30        | 0.1     | Lakshmi Holla     | Created Initial version    | -->\n",
        "\n",
        "\n",
        "© Copyright IBM Corporation. All rights reserved.\n"
      ],
      "metadata": {
        "id": "1_FUw6J_JWJE"
      }
    }
  ]
}